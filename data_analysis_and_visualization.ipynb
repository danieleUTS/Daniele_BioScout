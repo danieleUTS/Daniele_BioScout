{
 "cells": [
  {
   "cell_type": "markdown",
   "id": "a76b926d",
   "metadata": {},
   "source": [
    "# 1. Pre-Process Weather Data"
   ]
  },
  {
   "cell_type": "code",
   "execution_count": null,
   "id": "8f2a2eae",
   "metadata": {},
   "outputs": [],
   "source": [
    "from pandas import json_normalize"
   ]
  },
  {
   "cell_type": "code",
   "execution_count": null,
   "id": "2f7ccafb",
   "metadata": {},
   "outputs": [],
   "source": [
    "w1 = pd.read_csv(\"~/BioScout/data_engineer_technical_challenge/data.data_engineer_technical_challenge/data/tables/weather_data/weather_data_1.csv\")\n",
    "\n",
    "w2 = pd.read_csv(\"~/BioScout/data_engineer_technical_challenge/data.data_engineer_technical_challenge/data/tables/weather_data/weather_data_2.csv\")\n",
    "\n",
    "w3 = pd.read_csv(\"~/BioScout/data_engineer_technical_challenge/data.data_engineer_technical_challenge/data/tables/weather_data/weather_data_3.csv\")\n",
    "\n",
    "wd = pd.read_csv(\"~/BioScout/data_engineer_technical_challenge/data.data_engineer_technical_challenge/data/tables/weather_data/weather_devices.csv\")"
   ]
  },
  {
   "cell_type": "code",
   "execution_count": null,
   "id": "87b9461a",
   "metadata": {},
   "outputs": [],
   "source": [
    "#fix w2 table columns names\n",
    "\n",
    "m = w2.columns.to_frame()\n",
    "m = m.iloc[0:10].transpose()\n",
    "m.columns = ['index', 'weather_reading_id', 'date_measured', 'device_id', 'voc', 'pressure', 'extra_information']\n",
    "\n",
    "w2.columns = ['index', 'weather_reading_id', 'date_measured', 'device_id', 'voc', 'pressure', 'extra_information']\n",
    "\n",
    "w2f = pd.concat([w2, m], ignore_index=True)"
   ]
  },
  {
   "cell_type": "code",
   "execution_count": null,
   "id": "1d54822f",
   "metadata": {},
   "outputs": [],
   "source": [
    "#fix w3 table columns names\n",
    "\n",
    "m = w3.columns.to_frame()\n",
    "m = m.iloc[0:10].transpose()\n",
    "m.columns = ['index', 'weather_reading_id', 'date_measured', 'device_id', 'voc', 'pressure', 'extra_information']\n",
    "\n",
    "w3.columns = ['index', 'weather_reading_id', 'date_measured', 'device_id', 'voc', 'pressure', 'extra_information']\n",
    "\n",
    "w3f = pd.concat([w3, m], ignore_index=True)"
   ]
  },
  {
   "cell_type": "code",
   "execution_count": null,
   "id": "7957d589",
   "metadata": {},
   "outputs": [],
   "source": [
    "#join weather obs. with device data\n",
    "\n",
    "w1d = pd.merge(w1, wd, on=\"device_id\")\n",
    "w2d = pd.merge(w2f, wd, on=\"device_id\")\n",
    "w3d = pd.merge(w3f, wd, on=\"device_id\")"
   ]
  },
  {
   "cell_type": "code",
   "execution_count": null,
   "id": "cb835a70",
   "metadata": {},
   "outputs": [],
   "source": [
    "data = w3d.extra_information.to_dict()"
   ]
  },
  {
   "cell_type": "code",
   "execution_count": null,
   "id": "d194068a",
   "metadata": {},
   "outputs": [],
   "source": [
    "df = w3d "
   ]
  },
  {
   "cell_type": "code",
   "execution_count": null,
   "id": "366963a9",
   "metadata": {},
   "outputs": [],
   "source": [
    "# Assuming your DataFrame is named 'df'\n",
    "# Example of a row from the 'extra_information' column\n",
    "# Extract and normalize the 'VOCs' field from the 'extra_information' column\n",
    "df['VOCs'] = df['extra_information'].apply(lambda x: eval(x)['VOCs'])\n",
    "\n",
    "# Flatten the VOCs column\n",
    "flattened_VOCs = df['VOCs'].apply(lambda x: json_normalize(x))\n",
    "\n",
    "# Since we have a list of DataFrames after applying json_normalize, we should concatenate them properly\n",
    "flattened_VOCs_df = pd.concat(flattened_VOCs.tolist(), ignore_index=True)\n",
    "\n",
    "# Merge the flattened VOCs data with the original DataFrame\n",
    "df_flattened = pd.concat([df.drop(columns=['extra_information', 'VOCs']), flattened_VOCs_df], axis=1)\n",
    "\n",
    "# Show the flattened DataFrame\n",
    "print(df_flattened)"
   ]
  },
  {
   "cell_type": "code",
   "execution_count": null,
   "id": "2b24b9fc",
   "metadata": {},
   "outputs": [],
   "source": []
  },
  {
   "cell_type": "code",
   "execution_count": null,
   "id": "5aafe725",
   "metadata": {},
   "outputs": [],
   "source": [
    "data = df_flattened "
   ]
  },
  {
   "cell_type": "markdown",
   "id": "90299aa4",
   "metadata": {},
   "source": [
    "# 2. Visualise Weather Data & Provide Insights"
   ]
  },
  {
   "cell_type": "markdown",
   "id": "b173211d",
   "metadata": {},
   "source": [
    "Convert dates to julian date format for easier data visusalisation"
   ]
  },
  {
   "cell_type": "code",
   "execution_count": null,
   "id": "ed694479",
   "metadata": {},
   "outputs": [],
   "source": [
    "# Ensure the column is in datetime format\n",
    "data['date_column'] = pd.to_datetime(data['date_measured'])\n",
    "\n",
    "# Apply the function\n",
    "data['julian_date'] = data['date_column'].apply(to_julian)"
   ]
  },
  {
   "cell_type": "code",
   "execution_count": null,
   "id": "f388fcaa",
   "metadata": {},
   "outputs": [],
   "source": []
  },
  {
   "cell_type": "markdown",
   "id": "4806ec11",
   "metadata": {},
   "source": [
    "Visualise data over time and per device"
   ]
  },
  {
   "cell_type": "code",
   "execution_count": null,
   "id": "a5ffd209",
   "metadata": {},
   "outputs": [],
   "source": [
    "# Create a figure with a custom size (e.g., width=12 inches and height=6 inches)\n",
    "plt.figure(figsize=(12, 8))  # Adjust the width and height as needed\n",
    "\n",
    "\n",
    "# Assuming your DataFrame is 'data' and has columns 'julian_date', 'pressure', and 'population'\n",
    "# Create an interactive scatter plot using Plotly\n",
    "fig = px.scatter(data, x='julian_date', y='pressure', color='device_name', \n",
    "                 labels={'julian_date': 'Julian Date', 'pressure': 'Pressure'},\n",
    "                 title='Pressure vs Julian Date by device')\n",
    "\n",
    "\n",
    "# Update the layout to customize gridlines, axis lines, and marker size\n",
    "fig.update_traces(marker=dict(size=2))  # Set marker size (smaller than default)\n",
    "\n",
    "\n",
    "\n",
    "# Update layout to make it look better\n",
    "fig.update_layout(\n",
    "    xaxis_title='Julian Date',\n",
    "    yaxis_title='Pressure',\n",
    "    legend_title='Device',\n",
    "    template='seaborn',  # Change the theme if you like\n",
    "    autosize=True,\n",
    "\n",
    "    xaxis=dict(\n",
    "        showgrid=True,        # Enable gridlines\n",
    "        gridcolor='black',    # Set grid color to black\n",
    "        gridwidth=1           # Set the gridline width\n",
    "    ),\n",
    "    yaxis=dict(\n",
    "        showgrid=True,        # Enable gridlines\n",
    "        gridcolor='black',    # Set grid color to black\n",
    "        gridwidth=1           # Set the gridline width (remove the extra comma)\n",
    "    ),\n",
    "    \n",
    "    legend=dict(\n",
    "        itemclick=\"toggleothers\",  # Optional: toggles visibility of other traces\n",
    "        itemsizing='constant',     # Ensures consistent sizing of legend items\n",
    "        traceorder='normal',       # Ensures traces in legend follow the plot order\n",
    "        \n",
    "    ),\n",
    "    \n",
    "    \n",
    "  \n",
    ")\n",
    "\n",
    "\n",
    "# Show the plot\n",
    "fig.show()"
   ]
  },
  {
   "cell_type": "code",
   "execution_count": null,
   "id": "5ad6afad",
   "metadata": {},
   "outputs": [],
   "source": [
    "\n",
    "\n",
    "# Create a figure with a custom size (e.g., width=12 inches and height=6 inches)\n",
    "plt.figure(figsize=(12, 8))  # Adjust the width and height as needed\n",
    "\n",
    "\n",
    "# Assuming your DataFrame is 'data' and has columns 'julian_date', 'pressure', and 'population'\n",
    "# Create an interactive scatter plot using Plotly\n",
    "fig = px.scatter(data, x='julian_date', y='Value', color='device_name', \n",
    "                 labels={'julian_date': 'Julian Date', 'Value': 'Value'},\n",
    "                 title='Pressure vs Julian Date by device')\n",
    "\n",
    "\n",
    "# Update the layout to customize gridlines, axis lines, and marker size\n",
    "fig.update_traces(marker=dict(size=2))  # Set marker size (smaller than default)\n",
    "\n",
    "\n",
    "\n",
    "\n",
    "# Update layout to make it look better\n",
    "# Update layout to make it look better\n",
    "fig.update_layout(\n",
    "    xaxis_title='Julian Date',\n",
    "    yaxis_title='Value',\n",
    "    legend_title='Device',\n",
    "    template='seaborn',  # Change the theme if you like\n",
    "    autosize=True,\n",
    "\n",
    "    xaxis=dict(\n",
    "        showgrid=True,        # Enable gridlines\n",
    "        gridcolor='black',    # Set grid color to black\n",
    "        gridwidth=1           # Set the gridline width\n",
    "    ),\n",
    "    yaxis=dict(\n",
    "        showgrid=True,        # Enable gridlines\n",
    "        gridcolor='black',    # Set grid color to black\n",
    "        gridwidth=1           # Set the gridline width (remove the extra comma)\n",
    "    ),\n",
    "    \n",
    "    legend=dict(\n",
    "        itemclick=\"toggleothers\",  # Optional: toggles visibility of other traces\n",
    "        itemsizing='constant',     # Ensures consistent sizing of legend items\n",
    "        traceorder='normal',       # Ensures traces in legend follow the plot order\n",
    "        \n",
    "    ),\n",
    "    \n",
    "    \n",
    "    \n",
    "    \n",
    "    \n",
    ")\n",
    "\n",
    "\n",
    "# Show the plot\n",
    "fig.show()"
   ]
  },
  {
   "cell_type": "code",
   "execution_count": null,
   "id": "fb9d7bec",
   "metadata": {},
   "outputs": [],
   "source": [
    "# Create a scatter plot of pressure vs latitude using Plotly\n",
    "fig = px.scatter(data, \n",
    "                 x='latitude', \n",
    "                 y='pressure', \n",
    "                 color='device_name',  # Optionally use different colors for device_name\n",
    "                 labels={'latitude': 'Latitude', 'pressure': 'Pressure'},\n",
    "                 title='Pressure vs Latitude by Device')\n",
    "\n",
    "# Update the layout to customize gridlines, axis lines, and marker size\n",
    "fig.update_traces(marker=dict(size=5))  # Set marker size (larger than default)\n",
    "\n",
    "# Update layout to customize gridlines and make it look better\n",
    "fig.update_layout(\n",
    "    xaxis_title='Latitude',\n",
    "    yaxis_title='Pressure',\n",
    "    legend_title='Device',\n",
    "    template='seaborn',  # Choose the theme you like (e.g., 'seaborn', 'plotly', etc.)\n",
    "    autosize=True,\n",
    "\n",
    "    # Customize gridlines and axis lines\n",
    "    xaxis=dict(\n",
    "        showgrid=True,        # Enable gridlines\n",
    "        gridcolor='black',    # Set grid color to black\n",
    "        gridwidth=1           # Set gridline width\n",
    "    ),\n",
    "    yaxis=dict(\n",
    "        showgrid=True,        # Enable gridlines\n",
    "        gridcolor='black',    # Set grid color to black\n",
    "        gridwidth=1           # Set gridline width\n",
    "    ),\n",
    "    \n",
    "    legend=dict(\n",
    "        itemclick=\"toggleothers\",  # Optional: toggles visibility of other traces\n",
    "        itemsizing='constant',     # Ensures consistent sizing of legend items\n",
    "        traceorder='normal',       # Ensures traces in legend follow the plot order\n",
    "    ),\n",
    "    \n",
    "    # Set plot size (width and height)\n",
    "    width=800,  # Set the width of the plot\n",
    "    height=500,  # Set the height of the plot\n",
    ")\n",
    "\n",
    "# Show the plot\n",
    "fig.show()\n"
   ]
  },
  {
   "cell_type": "code",
   "execution_count": null,
   "id": "d7fbd3ef",
   "metadata": {},
   "outputs": [],
   "source": [
    "# Create a scatter plot of pressure vs latitude using Plotly\n",
    "fig = px.scatter(data, \n",
    "                 x='longitude', \n",
    "                 y='pressure', \n",
    "                 color='device_name',  # Optionally use different colors for device_name\n",
    "                 labels={'latitude': 'Latitude', 'pressure': 'Pressure'},\n",
    "                 title='Pressure vs Longitude by Device')\n",
    "\n",
    "# Update the layout to customize gridlines, axis lines, and marker size\n",
    "fig.update_traces(marker=dict(size=5))  # Set marker size (larger than default)\n",
    "\n",
    "# Update layout to customize gridlines and make it look better\n",
    "fig.update_layout(\n",
    "    xaxis_title='Longitude',\n",
    "    yaxis_title='Pressure',\n",
    "    legend_title='Device',\n",
    "    template='seaborn',  # Choose the theme you like (e.g., 'seaborn', 'plotly', etc.)\n",
    "    autosize=True,\n",
    "\n",
    "    # Customize gridlines and axis lines\n",
    "    xaxis=dict(\n",
    "        showgrid=True,        # Enable gridlines\n",
    "        gridcolor='black',    # Set grid color to black\n",
    "        gridwidth=1           # Set gridline width\n",
    "    ),\n",
    "    yaxis=dict(\n",
    "        showgrid=True,        # Enable gridlines\n",
    "        gridcolor='black',    # Set grid color to black\n",
    "        gridwidth=1           # Set gridline width\n",
    "    ),\n",
    "    \n",
    "    legend=dict(\n",
    "        itemclick=\"toggleothers\",  # Optional: toggles visibility of other traces\n",
    "        itemsizing='constant',     # Ensures consistent sizing of legend items\n",
    "        traceorder='normal',       # Ensures traces in legend follow the plot order\n",
    "    ),\n",
    "    \n",
    "    # Set plot size (width and height)\n",
    "    width=800,  # Set the width of the plot\n",
    "    height=500,  # Set the height of the plot\n",
    ")\n",
    "\n",
    "# Show the plot\n",
    "fig.show()\n"
   ]
  },
  {
   "cell_type": "code",
   "execution_count": null,
   "id": "6384349e",
   "metadata": {},
   "outputs": [],
   "source": []
  },
  {
   "cell_type": "code",
   "execution_count": null,
   "id": "e9f61be2",
   "metadata": {},
   "outputs": [],
   "source": []
  },
  {
   "cell_type": "code",
   "execution_count": null,
   "id": "c02cdc96",
   "metadata": {},
   "outputs": [],
   "source": []
  },
  {
   "cell_type": "code",
   "execution_count": null,
   "id": "f9e50cbe",
   "metadata": {},
   "outputs": [],
   "source": []
  }
 ],
 "metadata": {
  "kernelspec": {
   "display_name": "Python 3 (ipykernel)",
   "language": "python",
   "name": "python3"
  },
  "language_info": {
   "codemirror_mode": {
    "name": "ipython",
    "version": 3
   },
   "file_extension": ".py",
   "mimetype": "text/x-python",
   "name": "python",
   "nbconvert_exporter": "python",
   "pygments_lexer": "ipython3",
   "version": "3.12.7"
  }
 },
 "nbformat": 4,
 "nbformat_minor": 5
}
