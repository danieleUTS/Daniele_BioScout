{
 "cells": [
  {
   "cell_type": "code",
   "execution_count": null,
   "id": "a14103df",
   "metadata": {},
   "outputs": [],
   "source": [
    "# Paths to the folders containing the images and bounding box files\n",
    "\n",
    "image_folder = '/home/daniele/BioScout/data_engineer_technical_challenge/data.data_engineer_technical_challenge/data/imagery'\n",
    "human_boxes_folder = \"/home/daniele/BioScout/data_engineer_technical_challenge/data.data_engineer_technical_challenge/data/tables/imagery/ground truths\"\n",
    "model_boxes_folder = \"/home/daniele/BioScout/data_engineer_technical_challenge/data.data_engineer_technical_challenge/data/tables/imagery/model predictions\""
   ]
  },
  {
   "cell_type": "code",
   "execution_count": null,
   "id": "67a71425",
   "metadata": {},
   "outputs": [],
   "source": []
  },
  {
   "cell_type": "code",
   "execution_count": null,
   "id": "35bd1339",
   "metadata": {},
   "outputs": [],
   "source": [
    "#path containing the images with the drown boxes \n",
    "\n",
    "output_folder = 'output_images'"
   ]
  },
  {
   "cell_type": "code",
   "execution_count": null,
   "id": "dc60bb87",
   "metadata": {},
   "outputs": [],
   "source": []
  },
  {
   "cell_type": "code",
   "execution_count": null,
   "id": "29f89754",
   "metadata": {},
   "outputs": [],
   "source": []
  },
  {
   "cell_type": "code",
   "execution_count": null,
   "id": "4ee18cd7",
   "metadata": {},
   "outputs": [],
   "source": []
  },
  {
   "cell_type": "code",
   "execution_count": null,
   "id": "942df794",
   "metadata": {},
   "outputs": [],
   "source": []
  }
 ],
 "metadata": {
  "kernelspec": {
   "display_name": "Python 3 (ipykernel)",
   "language": "python",
   "name": "python3"
  },
  "language_info": {
   "codemirror_mode": {
    "name": "ipython",
    "version": 3
   },
   "file_extension": ".py",
   "mimetype": "text/x-python",
   "name": "python",
   "nbconvert_exporter": "python",
   "pygments_lexer": "ipython3",
   "version": "3.12.7"
  }
 },
 "nbformat": 4,
 "nbformat_minor": 5
}
